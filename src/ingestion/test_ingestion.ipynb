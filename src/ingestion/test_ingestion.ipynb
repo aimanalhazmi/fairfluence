{
 "cells": [
  {
   "cell_type": "code",
   "execution_count": 2,
   "id": "1429cc08",
   "metadata": {},
   "outputs": [
    {
     "ename": "ModuleNotFoundError",
     "evalue": "No module named 'pandas'",
     "output_type": "error",
     "traceback": [
      "\u001b[31m---------------------------------------------------------------------------\u001b[39m",
      "\u001b[31mModuleNotFoundError\u001b[39m                       Traceback (most recent call last)",
      "\u001b[36mCell\u001b[39m\u001b[36m \u001b[39m\u001b[32mIn[2]\u001b[39m\u001b[32m, line 1\u001b[39m\n\u001b[32m----> \u001b[39m\u001b[32m1\u001b[39m \u001b[38;5;28;01mfrom\u001b[39;00m\u001b[38;5;250m \u001b[39m\u001b[34;01mingestion\u001b[39;00m\u001b[38;5;250m \u001b[39m\u001b[38;5;28;01mimport\u001b[39;00m IngestorFactory\n",
      "\u001b[36mFile \u001b[39m\u001b[32mc:\\Uni\\Master\\Semester_2\\EDML\\Project\\fairfluence\\src\\ingestion\\ingestion.py:1\u001b[39m\n\u001b[32m----> \u001b[39m\u001b[32m1\u001b[39m \u001b[38;5;28;01mimport\u001b[39;00m\u001b[38;5;250m \u001b[39m\u001b[34;01mpandas\u001b[39;00m\u001b[38;5;250m \u001b[39m\u001b[38;5;28;01mas\u001b[39;00m\u001b[38;5;250m \u001b[39m\u001b[34;01mpd\u001b[39;00m\n\u001b[32m      2\u001b[39m \u001b[38;5;28;01mimport\u001b[39;00m\u001b[38;5;250m \u001b[39m\u001b[34;01mnumpy\u001b[39;00m\u001b[38;5;250m \u001b[39m\u001b[38;5;28;01mas\u001b[39;00m\u001b[38;5;250m \u001b[39m\u001b[34;01mnp\u001b[39;00m\n\u001b[32m      3\u001b[39m \u001b[38;5;28;01mfrom\u001b[39;00m\u001b[38;5;250m \u001b[39m\u001b[34;01mdatasets\u001b[39;00m\u001b[38;5;250m \u001b[39m\u001b[38;5;28;01mimport\u001b[39;00m load_dataset \u001b[38;5;66;03m#Todo integrate into requirements.txt V 3.6.0\u001b[39;00m\n",
      "\u001b[31mModuleNotFoundError\u001b[39m: No module named 'pandas'"
     ]
    }
   ],
   "source": [
    "from ingestion import IngestorFactory\n"
   ]
  },
  {
   "cell_type": "code",
   "execution_count": null,
   "id": "6d5dd782",
   "metadata": {},
   "outputs": [],
   "source": [
    "# Set the link\n",
    "link = \"https://huggingface.co/datasets/marianeft/diabetes_prediction_dataset\"\n",
    "#link = \"https://huggingface.co/datasets/scikit-learn/credit-card-clients\"\n",
    "#link = \"https://huggingface.co/datasets/ucberkeley-dlab/measuring-hate-speech\"\n",
    "#link = \"https://huggingface.co/datasets/Supa-AI/Reasoning_Patterns_AI_Hiring_Bias_SEA\""
   ]
  },
  {
   "cell_type": "code",
   "execution_count": null,
   "id": "6cb668b6",
   "metadata": {},
   "outputs": [],
   "source": [
    "ingestor_factory = IngestorFactory(link)\n",
    "ingestor = ingestor_factory.create()\n",
    "ingestor.load_data()"
   ]
  }
 ],
 "metadata": {
  "kernelspec": {
   "display_name": ".venv",
   "language": "python",
   "name": "python3"
  },
  "language_info": {
   "codemirror_mode": {
    "name": "ipython",
    "version": 3
   },
   "file_extension": ".py",
   "mimetype": "text/x-python",
   "name": "python",
   "nbconvert_exporter": "python",
   "pygments_lexer": "ipython3",
   "version": "3.12.0"
  }
 },
 "nbformat": 4,
 "nbformat_minor": 5
}
