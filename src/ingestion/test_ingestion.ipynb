{
 "cells": [
  {
   "cell_type": "code",
   "execution_count": 1,
   "id": "1429cc08",
   "metadata": {},
   "outputs": [
    {
     "name": "stderr",
     "output_type": "stream",
     "text": [
      "c:\\Uni\\Master\\Semester_2\\EDML\\Project\\fairfluence\\.venv\\Lib\\site-packages\\tqdm\\auto.py:21: TqdmWarning: IProgress not found. Please update jupyter and ipywidgets. See https://ipywidgets.readthedocs.io/en/stable/user_install.html\n",
      "  from .autonotebook import tqdm as notebook_tqdm\n"
     ]
    }
   ],
   "source": [
    "from ingestion import IngestorFactory\n"
   ]
  },
  {
   "cell_type": "code",
   "execution_count": null,
   "id": "6d5dd782",
   "metadata": {},
   "outputs": [],
   "source": [
    "# Set the link\n",
    "#link = \"https://huggingface.co/datasets/marianeft/diabetes_prediction_dataset\"\n",
    "#link = \"https://huggingface.co/datasets/scikit-learn/credit-card-clients\"\n",
    "#link = \"https://huggingface.co/datasets/ucberkeley-dlab/measuring-hate-speech\"\n",
    "#link = \"https://huggingface.co/datasets/Supa-AI/Reasoning_Patterns_AI_Hiring_Bias_SEA\"\n",
    "#link = \"https://www.kaggle.com/datasets/uciml/adult-census-income\"\n",
    "#link = \"https://www.kaggle.com/datasets/kamrangayibov/football-data-european-top-5-leagues\"\n",
    "\n",
    "#link = \"https://www.kaggle.com/datasets/siddharth0935/hospital-readmission-predictionsynthetic-dataset/data\""
   ]
  },
  {
   "cell_type": "code",
   "execution_count": 3,
   "id": "6cb668b6",
   "metadata": {},
   "outputs": [
    {
     "name": "stdout",
     "output_type": "stream",
     "text": [
      "Dataset URL: https://www.kaggle.com/datasets/adarsh1077/comprehensive-vehicle-specifications-dataset\n",
      "../../data/kaggle_temp/structured_bike_data_cleaned.json was deleted.\n"
     ]
    }
   ],
   "source": [
    "ingestor_factory = IngestorFactory(link, 1)\n",
    "ingestor = ingestor_factory.create()\n",
    "ingestor.load_data()"
   ]
  }
 ],
 "metadata": {
  "kernelspec": {
   "display_name": ".venv",
   "language": "python",
   "name": "python3"
  },
  "language_info": {
   "codemirror_mode": {
    "name": "ipython",
    "version": 3
   },
   "file_extension": ".py",
   "mimetype": "text/x-python",
   "name": "python",
   "nbconvert_exporter": "python",
   "pygments_lexer": "ipython3",
   "version": "3.12.0"
  }
 },
 "nbformat": 4,
 "nbformat_minor": 5
}
